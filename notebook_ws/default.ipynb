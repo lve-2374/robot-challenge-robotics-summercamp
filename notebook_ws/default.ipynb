{
 "cells": [
  {
   "cell_type": "markdown",
   "metadata": {},
   "source": [
    "<img src=\"images/zhejian_logo.png\" />"
   ]
  },
  {
   "cell_type": "markdown",
   "metadata": {},
   "source": [
    "# Summer Camp Real Robot Project"
   ]
  },
  {
   "cell_type": "markdown",
   "metadata": {},
   "source": [
    "In this rosject, you will have to prepare some programs to manage the real Limo robot and win a competition"
   ]
  },
  {
   "cell_type": "markdown",
   "metadata": {},
   "source": [
    "You will need to use the simulation and the real environment"
   ]
  },
  {
   "cell_type": "markdown",
   "metadata": {},
   "source": [
    "This project has two parts."
   ]
  },
  {
   "cell_type": "markdown",
   "metadata": {},
   "source": [
    "## Part 1: Make Limo navigate using the autonomous navigation system"
   ]
  },
  {
   "cell_type": "markdown",
   "metadata": {},
   "source": [
    "First part of the project, you need to make the robot navigate the environment autonomously. For that, you need to launch the 3 parts of navigation:\n",
    "\n",
    "1. Map creation\n",
    "2. Localization\n",
    "3. Path planning"
   ]
  },
  {
   "cell_type": "markdown",
   "metadata": {},
   "source": [
    "#### You need to make it work in simulation and in real robot"
   ]
  },
  {
   "cell_type": "markdown",
   "metadata": {},
   "source": [
    "### First, use the simulation to practice"
   ]
  },
  {
   "cell_type": "markdown",
   "metadata": {},
   "source": [
    "Open a terminal and **launch the simulation**, with the following code:"
   ]
  },
  {
   "cell_type": "code",
   "execution_count": null,
   "metadata": {},
   "outputs": [],
   "source": [
    "ros2 launch limo_description limo_basic.launch.xml"
   ]
  },
  {
   "cell_type": "markdown",
   "metadata": {},
   "source": [
    "You should get the following window that appears with Limo robot"
   ]
  },
  {
   "cell_type": "markdown",
   "metadata": {},
   "source": [
    "<img src=\"images/limo_sim.png\" />"
   ]
  },
  {
   "cell_type": "markdown",
   "metadata": {},
   "source": [
    "If you need to restart the simulation, type the following command:"
   ]
  },
  {
   "cell_type": "code",
   "execution_count": null,
   "metadata": {},
   "outputs": [],
   "source": [
    "ros2 service call /reset_simulation std_srvs/srv/Empty \"{}\""
   ]
  },
  {
   "cell_type": "markdown",
   "metadata": {},
   "source": [
    "#### I. Create the map"
   ]
  },
  {
   "cell_type": "markdown",
   "metadata": {},
   "source": [
    "On **terminal 2** launch the **mapping system**:"
   ]
  },
  {
   "cell_type": "code",
   "execution_count": null,
   "metadata": {},
   "outputs": [],
   "source": [
    "ros2 launch cartographer_slam cartographer_sim.launch.py"
   ]
  },
  {
   "cell_type": "markdown",
   "metadata": {},
   "source": [
    "On **terminal 3** launch the **Rviz** to visualize the progress"
   ]
  },
  {
   "cell_type": "code",
   "execution_count": null,
   "metadata": {},
   "outputs": [],
   "source": [
    "rviz2 -d ~/ros2_ws/src/rviz/limo.rviz"
   ]
  },
  {
   "cell_type": "markdown",
   "metadata": {},
   "source": [
    "On **terminal 4** launch the program to **move the robot with keyboard**:"
   ]
  },
  {
   "cell_type": "code",
   "execution_count": null,
   "metadata": {},
   "outputs": [],
   "source": [
    "ros2 run teleop_twist_keyboard teleop_twist_keyboard"
   ]
  },
  {
   "cell_type": "markdown",
   "metadata": {},
   "source": [
    "<img src=\"images/mapping.png\" />"
   ]
  },
  {
   "cell_type": "markdown",
   "metadata": {},
   "source": [
    "Once the map is completed, then **save the map** with the following commands:"
   ]
  },
  {
   "cell_type": "code",
   "execution_count": null,
   "metadata": {},
   "outputs": [],
   "source": [
    "cd ~/ros2_ws/src/cartographer_slam/config\n",
    "ros2 run nav2_map_server map_saver_cli -f limo_area_sim"
   ]
  },
  {
   "cell_type": "markdown",
   "metadata": {},
   "source": [
    "Now go to **terminal 2** and close the `mapping` program with Ctrl+C"
   ]
  },
  {
   "cell_type": "markdown",
   "metadata": {},
   "source": [
    "#### II. Launch the localization"
   ]
  },
  {
   "cell_type": "markdown",
   "metadata": {},
   "source": [
    "On **terminal 2** launch the **localization system**"
   ]
  },
  {
   "cell_type": "code",
   "execution_count": null,
   "metadata": {},
   "outputs": [],
   "source": [
    "ros2 launch localization_server localization_sim.launch.py"
   ]
  },
  {
   "cell_type": "markdown",
   "metadata": {},
   "source": [
    "Use **Rviz** to provide an initial pose, indicating where in the simulation the robot is."
   ]
  },
  {
   "cell_type": "markdown",
   "metadata": {},
   "source": [
    "<img src=\"images/loc.png\" />"
   ]
  },
  {
   "cell_type": "markdown",
   "metadata": {},
   "source": [
    "Use the keyboard in the **terminal 4** to move the robot around and see how the robot is localized all the time"
   ]
  },
  {
   "cell_type": "markdown",
   "metadata": {},
   "source": [
    "#### III. Launch the Path Planning"
   ]
  },
  {
   "cell_type": "markdown",
   "metadata": {},
   "source": [
    "On **terminal 5** launch the **path planning** system:"
   ]
  },
  {
   "cell_type": "code",
   "execution_count": null,
   "metadata": {},
   "outputs": [],
   "source": [
    "ros2 launch path_planner_server pathplanner_sim.launch.py"
   ]
  },
  {
   "cell_type": "markdown",
   "metadata": {},
   "source": [
    "Use **Rviz** to **provide a goal destination** to some place to test that the robot is able to move autonomously"
   ]
  },
  {
   "cell_type": "markdown",
   "metadata": {},
   "source": [
    "<img src=\"images/navigation.png\" />"
   ]
  },
  {
   "cell_type": "markdown",
   "metadata": {},
   "source": [
    "### Now do the same thing with the real robot"
   ]
  },
  {
   "cell_type": "markdown",
   "metadata": {},
   "source": [
    "When your code works in the simulation, then you can test it on the real robot"
   ]
  },
  {
   "cell_type": "markdown",
   "metadata": {},
   "source": [
    "To connect to the real robot, request to the teacher which robot you can connect to and when. \n",
    "\n",
    "Once you have the robot assigned, click on the icon of the robot head at the bottom right:"
   ]
  },
  {
   "cell_type": "markdown",
   "metadata": {},
   "source": [
    "<img src=\"images/connect_icon.png\" />"
   ]
  },
  {
   "cell_type": "markdown",
   "metadata": {},
   "source": [
    "Then, select your assigned Limo robot on the list that appears and click on connect:"
   ]
  },
  {
   "cell_type": "markdown",
   "metadata": {},
   "source": [
    "<img src=\"images/limo_connect.png\" />"
   ]
  },
  {
   "cell_type": "markdown",
   "metadata": {},
   "source": [
    "Now you can test the same steps in the real robot"
   ]
  },
  {
   "cell_type": "markdown",
   "metadata": {},
   "source": [
    "### To work with the Limo robot"
   ]
  },
  {
   "cell_type": "code",
   "execution_count": null,
   "metadata": {},
   "outputs": [],
   "source": [
    "ros2 launch cartographer_slam cartographer_real.launch.py"
   ]
  },
  {
   "cell_type": "code",
   "execution_count": null,
   "metadata": {},
   "outputs": [],
   "source": [
    "cd ~/ros2_ws/src/cartographer_slam/config\n",
    "ros2 run nav2_map_server map_saver_cli -f limo_area_real"
   ]
  },
  {
   "cell_type": "code",
   "execution_count": null,
   "metadata": {},
   "outputs": [],
   "source": [
    "ros2 launch localization_server localization_real.launch.py"
   ]
  },
  {
   "cell_type": "code",
   "execution_count": null,
   "metadata": {},
   "outputs": [],
   "source": [
    "ros2 launch path_planner_server pathplanner_real.launch.py"
   ]
  },
  {
   "cell_type": "markdown",
   "metadata": {},
   "source": [
    "### To work with the Turtlebot 4 robot"
   ]
  },
  {
   "cell_type": "code",
   "execution_count": null,
   "metadata": {},
   "outputs": [],
   "source": [
    "ros2 launch cartographer_slam tb4_rviz.launch.py"
   ]
  },
  {
   "cell_type": "code",
   "execution_count": null,
   "metadata": {},
   "outputs": [],
   "source": [
    "ros2 run teleop_twist_keyboard teleop_twist_keyboard --ros-args --remap /cmd_vel:=/tb4_2/cmd_vel"
   ]
  },
  {
   "cell_type": "code",
   "execution_count": null,
   "metadata": {},
   "outputs": [],
   "source": [
    "ros2 run nav2_map_server map_saver_cli -f tb4_area_real"
   ]
  },
  {
   "cell_type": "markdown",
   "metadata": {},
   "source": [
    "## Part 2: Create your program to make Limo follow the wall"
   ]
  },
  {
   "cell_type": "markdown",
   "metadata": {},
   "source": [
    "Your goal is to create a program for Limo that makes Limo perform a full tour around the environment as fast as possible.\n",
    "\n",
    "The team that achieves to make a tour faster, will be the winner."
   ]
  },
  {
   "cell_type": "markdown",
   "metadata": {},
   "source": [
    "### How to do it"
   ]
  },
  {
   "cell_type": "markdown",
   "metadata": {},
   "source": [
    "1. You need to create a package named `wall_following_pkg` with dependencies `rclpy`.\n",
    "\n",
    "2. Inside the package create a Python file named `wall_follower.py`\n",
    "\n",
    "3. The Python file must contain a ROS node named `wall_follower_node` that does the following:\n",
    "\n",
    "    * Contain a ROS topic subscriber to the `/scan` topic to obtain the laser data\n",
    "    * Contain a ROS topic publisher to the `/cmd_vel` topic to send velocities to the wheels\n",
    "\n",
    "4. Create an algorithm that uses the laser data to detect the wall on the left hand side and then send velocities to the wheels to make the robot follow the wall as in the following video:"
   ]
  },
  {
   "cell_type": "markdown",
   "metadata": {},
   "source": [
    "<img src=\"images/wall_follow.gif\" />"
   ]
  },
  {
   "cell_type": "markdown",
   "metadata": {},
   "source": [
    "#### Your tasks are\n",
    "1. Achieve that behavior in the simulator\n",
    "2. Test it in the real robot"
   ]
  },
  {
   "cell_type": "markdown",
   "metadata": {},
   "source": [
    "### Tips and tricks"
   ]
  },
  {
   "cell_type": "markdown",
   "metadata": {},
   "source": [
    "* You can achieve the behavior by using only two rays:\n",
    "    * The front ray (to detect when there is a wall in front of it and needs to start turning)\n",
    "    * The ray at 90º (to detect the distance to the wall)\n",
    "\n",
    "* You will need to compute to which `range` in the `LaserScan` message each of those positions corresponds to\n",
    "\n",
    "<img src=\"images/rays.png\" />"
   ]
  },
  {
   "cell_type": "markdown",
   "metadata": {},
   "source": [
    "* Start with slow velocities until you get the behavior. Once it works, try to provide faster speeds so you can win the race!"
   ]
  },
  {
   "cell_type": "markdown",
   "metadata": {},
   "source": [
    "### Criterias for winning the challenge"
   ]
  },
  {
   "cell_type": "markdown",
   "metadata": {},
   "source": [
    "2. time to do the lap\n",
    "3. presentation\n",
    "4. question"
   ]
  },
  {
   "cell_type": "code",
   "execution_count": null,
   "metadata": {},
   "outputs": [],
   "source": []
  }
 ],
 "metadata": {
  "kernelspec": {
   "display_name": "Python 2",
   "language": "python",
   "name": "python2"
  },
  "language_info": {
   "codemirror_mode": {
    "name": "ipython",
    "version": 2
   },
   "file_extension": ".py",
   "mimetype": "text/x-python",
   "name": "python",
   "nbconvert_exporter": "python",
   "pygments_lexer": "ipython2",
   "version": "2.7.16"
  }
 },
 "nbformat": 4,
 "nbformat_minor": 1
}
